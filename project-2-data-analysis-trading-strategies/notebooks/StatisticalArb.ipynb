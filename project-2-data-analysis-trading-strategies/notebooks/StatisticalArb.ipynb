{
 "cells": [
  {
   "cell_type": "code",
   "execution_count": 14,
   "id": "7860eee3-42ee-49b0-9e51-960eb296cbff",
   "metadata": {},
   "outputs": [],
   "source": [
    "import pandas as pd\n",
    "pd.set_option('display.max_columns', None)  # Show all columns\n",
    "pd.set_option('display.width', 1000)  #\n",
    "import matplotlib.pyplot as plt\n",
    "import seaborn as sns\n",
    "from statsmodels.tsa.stattools import coint"
   ]
  },
  {
   "cell_type": "code",
   "execution_count": 4,
   "id": "3e7dbfaa-f682-4fae-b8ee-350f41aa5c27",
   "metadata": {},
   "outputs": [],
   "source": [
    "## First reduce the data before starting the project\n",
    "stocks= pd.read_csv('stocks_df.csv')\n",
    "stocks['Date'] = pd.to_datetime(stocks['Date'])\n",
    "max_date = stocks['Date'].max()\n",
    "median_date = stocks['Date'].median()\n",
    "min_date = stocks['Date'].min()\n",
    "\n",
    "##print(f\"max date - {max_date}\")\n",
    "##print(f\"median date - {max_date}\")\n",
    "##print(f\"min date - {min_date}\")\n",
    "\n",
    "## lets filter out old data \n",
    "stocks = stocks[(stocks['Date'] >= '2020-06-01') & (stocks['Date'] <= '2022-01-11')]\n",
    "stocks = stocks.reset_index(drop=True)\n",
    "interested_Stocks = [\"INFY\",\"TCS\"]\n",
    "stocks = stocks[stocks['Stock'].isin(interested_Stocks)]\n",
    "stocks = stocks.reset_index(drop=True)"
   ]
  },
  {
   "cell_type": "code",
   "execution_count": 15,
   "id": "a203482c-3ec3-42c2-b5a0-527fdce28133",
   "metadata": {},
   "outputs": [
    {
     "name": "stdout",
     "output_type": "stream",
     "text": [
      "          Date Stock     Open     High      Low    Close    Volume  Change Pct    Return\n",
      "0   2020-06-01  INFY   698.75   706.65   691.50   699.55  12276649        1.24       NaN\n",
      "1   2020-06-02  INFY   700.50   711.65   697.55   708.10   7059409        1.22  0.012222\n",
      "2   2020-06-03  INFY   710.70   711.90   696.00   701.55  11378568       -0.93 -0.009250\n",
      "3   2020-06-04  INFY   702.00   709.45   697.50   707.75  10783594        0.88  0.008838\n",
      "4   2020-06-05  INFY   707.00   711.70   700.60   703.55   7718943       -0.59 -0.005934\n",
      "..         ...   ...      ...      ...      ...      ...       ...         ...       ...\n",
      "805 2022-01-05   TCS  3865.00  3870.00  3812.40  3860.95   1733031       -0.61 -0.006127\n",
      "806 2022-01-06   TCS  3812.00  3835.00  3772.00  3807.45   1810293       -1.39 -0.013857\n",
      "807 2022-01-07   TCS  3820.00  3864.90  3796.40  3853.50   2460591        1.21  0.012095\n",
      "808 2022-01-10   TCS  3978.00  3978.00  3861.00  3879.85   3937092        0.68  0.006838\n",
      "809 2022-01-11   TCS  3872.20  3901.90  3865.00  3885.35    696146        0.14  0.001418\n",
      "\n",
      "[810 rows x 9 columns]\n",
      "Stock           INFY       TCS\n",
      "Date                          \n",
      "2020-06-01       NaN       NaN\n",
      "2020-06-02  0.012222  0.000929\n",
      "2020-06-03 -0.009250 -0.000488\n",
      "2020-06-04  0.008838  0.022188\n",
      "2020-06-05 -0.005934 -0.020702\n",
      "...              ...       ...\n",
      "2022-01-05 -0.028697 -0.006127\n",
      "2022-01-06 -0.014556 -0.013857\n",
      "2022-01-07 -0.001925  0.012095\n",
      "2022-01-10  0.020090  0.006838\n",
      "2022-01-11  0.004350  0.001418\n",
      "\n",
      "[405 rows x 2 columns]\n",
      "Stock      INFY       TCS\n",
      "Stock                    \n",
      "INFY   1.000000  0.601186\n",
      "TCS    0.601186  1.000000\n"
     ]
    },
    {
     "data": {
      "image/png": "[encoded data removed]",
      "text/plain": [
       "<Figure size 640x480 with 2 Axes>"
      ]
     },
     "metadata": {},
     "output_type": "display_data"
    },
    {
     "name": "stdout",
     "output_type": "stream",
     "text": [
      "P-Value: 0.0\n"
     ]
    }
   ],
   "source": [
    "# Calculate daily returns\n",
    "\n",
    "stocks['Return'] = stocks.groupby('Stock')['Close'].pct_change()\n",
    "print(stocks)\n",
    "\n",
    "# Pivot to wide format\n",
    "returns_pivot = stocks.pivot(index='Date', columns='Stock', values='Return')\n",
    "print(returns_pivot)\n",
    "\n",
    "correlation_matrix = returns_pivot.corr()\n",
    "print(correlation_matrix)\n",
    "\n",
    "\n",
    "sns.heatmap(correlation_matrix, annot=True, cmap='coolwarm')\n",
    "plt.title('Correlation Matrix')\n",
    "plt.show()\n",
    "\n",
    "from statsmodels.tsa.stattools import coint\n",
    "\n",
    "score, p_value, _ = coint(returns_pivot['TCS'].dropna(), returns_pivot['INFY'].dropna())\n",
    "print(f'P-Value: {p_value}')\n"
   ]
  },
  {
   "cell_type": "code",
   "execution_count": 16,
   "id": "591ea25f-f4df-4e91-8db2-7c83e447f690",
   "metadata": {},
   "outputs": [
    {
     "data": {
      "text/html": [
       "<div>\n",
       "<style scoped>\n",
       "    .dataframe tbody tr th:only-of-type {\n",
       "        vertical-align: middle;\n",
       "    }\n",
       "\n",
       "    .dataframe tbody tr th {\n",
       "        vertical-align: top;\n",
       "    }\n",
       "\n",
       "    .dataframe thead th {\n",
       "        text-align: right;\n",
       "    }\n",
       "</style>\n",
       "<table border=\"1\" class=\"dataframe\">\n",
       "  <thead>\n",
       "    <tr style=\"text-align: right;\">\n",
       "      <th>Stock</th>\n",
       "      <th>INFY</th>\n",
       "      <th>TCS</th>\n",
       "    </tr>\n",
       "    <tr>\n",
       "      <th>Date</th>\n",
       "      <th></th>\n",
       "      <th></th>\n",
       "    </tr>\n",
       "  </thead>\n",
       "  <tbody>\n",
       "    <tr>\n",
       "      <th>2020-06-01</th>\n",
       "      <td>NaN</td>\n",
       "      <td>NaN</td>\n",
       "    </tr>\n",
       "    <tr>\n",
       "      <th>2020-06-02</th>\n",
       "      <td>0.012222</td>\n",
       "      <td>0.000929</td>\n",
       "    </tr>\n",
       "    <tr>\n",
       "      <th>2020-06-03</th>\n",
       "      <td>-0.009250</td>\n",
       "      <td>-0.000488</td>\n",
       "    </tr>\n",
       "    <tr>\n",
       "      <th>2020-06-04</th>\n",
       "      <td>0.008838</td>\n",
       "      <td>0.022188</td>\n",
       "    </tr>\n",
       "    <tr>\n",
       "      <th>2020-06-05</th>\n",
       "      <td>-0.005934</td>\n",
       "      <td>-0.020702</td>\n",
       "    </tr>\n",
       "    <tr>\n",
       "      <th>...</th>\n",
       "      <td>...</td>\n",
       "      <td>...</td>\n",
       "    </tr>\n",
       "    <tr>\n",
       "      <th>2022-01-05</th>\n",
       "      <td>-0.028697</td>\n",
       "      <td>-0.006127</td>\n",
       "    </tr>\n",
       "    <tr>\n",
       "      <th>2022-01-06</th>\n",
       "      <td>-0.014556</td>\n",
       "      <td>-0.013857</td>\n",
       "    </tr>\n",
       "    <tr>\n",
       "      <th>2022-01-07</th>\n",
       "      <td>-0.001925</td>\n",
       "      <td>0.012095</td>\n",
       "    </tr>\n",
       "    <tr>\n",
       "      <th>2022-01-10</th>\n",
       "      <td>0.020090</td>\n",
       "      <td>0.006838</td>\n",
       "    </tr>\n",
       "    <tr>\n",
       "      <th>2022-01-11</th>\n",
       "      <td>0.004350</td>\n",
       "      <td>0.001418</td>\n",
       "    </tr>\n",
       "  </tbody>\n",
       "</table>\n",
       "<p>405 rows × 2 columns</p>\n",
       "</div>"
      ],
      "text/plain": [
       "Stock           INFY       TCS\n",
       "Date                          \n",
       "2020-06-01       NaN       NaN\n",
       "2020-06-02  0.012222  0.000929\n",
       "2020-06-03 -0.009250 -0.000488\n",
       "2020-06-04  0.008838  0.022188\n",
       "2020-06-05 -0.005934 -0.020702\n",
       "...              ...       ...\n",
       "2022-01-05 -0.028697 -0.006127\n",
       "2022-01-06 -0.014556 -0.013857\n",
       "2022-01-07 -0.001925  0.012095\n",
       "2022-01-10  0.020090  0.006838\n",
       "2022-01-11  0.004350  0.001418\n",
       "\n",
       "[405 rows x 2 columns]"
      ]
     },
     "execution_count": 16,
     "metadata": {},
     "output_type": "execute_result"
    }
   ],
   "source": [
    "returns_pivot"
   ]
  }
 ],
 "metadata": {
  "kernelspec": {
   "display_name": "Python 3 (ipykernel)",
   "language": "python",
   "name": "python3"
  },
  "language_info": {
   "codemirror_mode": {
    "name": "ipython",
    "version": 3
   },
   "file_extension": ".py",
   "mimetype": "text/x-python",
   "name": "python",
   "nbconvert_exporter": "python",
   "pygments_lexer": "ipython3",
   "version": "3.11.8"
  }
 },
 "nbformat": 4,
 "nbformat_minor": 5
}
